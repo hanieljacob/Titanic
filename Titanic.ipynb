{
  "nbformat": 4,
  "nbformat_minor": 0,
  "metadata": {
    "colab": {
      "name": "Titanic.ipynb",
      "provenance": [],
      "collapsed_sections": [],
      "include_colab_link": true
    },
    "kernelspec": {
      "name": "python3",
      "display_name": "Python 3"
    }
  },
  "cells": [
    {
      "cell_type": "markdown",
      "metadata": {
        "id": "view-in-github",
        "colab_type": "text"
      },
      "source": [
        "<a href=\"https://colab.research.google.com/github/hanieljacob/Titanic/blob/master/Titanic.ipynb\" target=\"_parent\"><img src=\"https://colab.research.google.com/assets/colab-badge.svg\" alt=\"Open In Colab\"/></a>"
      ]
    },
    {
      "cell_type": "code",
      "metadata": {
        "id": "XNDVAZ3Zg-CO",
        "colab_type": "code",
        "colab": {}
      },
      "source": [
        "import pandas as pd;\n",
        "import numpy as np;\n",
        "import seaborn as sns;\n",
        "from sklearn.linear_model import LogisticRegression;"
      ],
      "execution_count": null,
      "outputs": []
    },
    {
      "cell_type": "code",
      "metadata": {
        "id": "NBHB1RGz0IeC",
        "colab_type": "code",
        "colab": {
          "base_uri": "https://localhost:8080/",
          "height": 34
        },
        "outputId": "bc0382d2-cdf9-449b-84af-6f2c98f5484e"
      },
      "source": [
        "from google.colab import drive\n",
        "drive.mount('/content/drive')"
      ],
      "execution_count": null,
      "outputs": [
        {
          "output_type": "stream",
          "text": [
            "Drive already mounted at /content/drive; to attempt to forcibly remount, call drive.mount(\"/content/drive\", force_remount=True).\n"
          ],
          "name": "stdout"
        }
      ]
    },
    {
      "cell_type": "code",
      "metadata": {
        "id": "Y47yDBE4iOZJ",
        "colab_type": "code",
        "colab": {}
      },
      "source": [
        "df1 = pd.read_csv('/content/drive/My Drive/train.csv')\n",
        "df2 = pd.read_csv('/content/drive/My Drive/test.csv')"
      ],
      "execution_count": null,
      "outputs": []
    },
    {
      "cell_type": "code",
      "metadata": {
        "id": "tHVvul9aoHia",
        "colab_type": "code",
        "colab": {
          "base_uri": "https://localhost:8080/",
          "height": 228
        },
        "outputId": "83dc6d8e-d51d-4e2a-b746-f6366fca89ca"
      },
      "source": [
        "first_col = df2['PassengerId']\n",
        "df1 = df1.drop(['PassengerId','Name','Ticket','Fare','Embarked'],axis=1)\n",
        "df2 = df2.drop(['PassengerId','Name','Ticket','Fare','Embarked'],axis=1)\n",
        "first_col"
      ],
      "execution_count": null,
      "outputs": [
        {
          "output_type": "execute_result",
          "data": {
            "text/plain": [
              "0       892\n",
              "1       893\n",
              "2       894\n",
              "3       895\n",
              "4       896\n",
              "       ... \n",
              "413    1305\n",
              "414    1306\n",
              "415    1307\n",
              "416    1308\n",
              "417    1309\n",
              "Name: PassengerId, Length: 418, dtype: int64"
            ]
          },
          "metadata": {
            "tags": []
          },
          "execution_count": 183
        }
      ]
    },
    {
      "cell_type": "code",
      "metadata": {
        "id": "18zJEIjW9IIp",
        "colab_type": "code",
        "colab": {
          "base_uri": "https://localhost:8080/",
          "height": 286
        },
        "outputId": "a6933803-974b-4698-c140-096213147bb1"
      },
      "source": [
        "#sns.pairplot(df1)\n",
        "sns.heatmap(df1.corr())"
      ],
      "execution_count": null,
      "outputs": [
        {
          "output_type": "execute_result",
          "data": {
            "text/plain": [
              "<matplotlib.axes._subplots.AxesSubplot at 0x7fa0ed1fd320>"
            ]
          },
          "metadata": {
            "tags": []
          },
          "execution_count": 184
        },
        {
          "output_type": "display_data",
          "data": {
            "image/png": "[encoded data removed]",
            "text/plain": [
              "<Figure size 432x288 with 2 Axes>"
            ]
          },
          "metadata": {
            "tags": [],
            "needs_background": "light"
          }
        }
      ]
    },
    {
      "cell_type": "code",
      "metadata": {
        "id": "9B8RMZrl95qM",
        "colab_type": "code",
        "colab": {}
      },
      "source": [
        "y = df1['Survived']\n",
        "df1[\"Sex\"] = df1[\"Sex\"].astype('category')\n",
        "df1[\"Cabin\"] = df1[\"Cabin\"].astype('category')\n",
        "df1[\"Sex\"] = df1[\"Sex\"].cat.codes\n",
        "df1[\"Cabin\"] = df1[\"Cabin\"].cat.codes\n",
        "df2[\"Sex\"] = df2[\"Sex\"].astype('category')\n",
        "df2[\"Cabin\"] = df2[\"Cabin\"].astype('category')\n",
        "df2[\"Sex\"] = df2[\"Sex\"].cat.codes\n",
        "df2[\"Cabin\"] = df2[\"Cabin\"].cat.codes\n",
        "df1 = df1.drop(['Survived'],axis=1)"
      ],
      "execution_count": null,
      "outputs": []
    },
    {
      "cell_type": "code",
      "metadata": {
        "id": "rRzTFFXn-HJr",
        "colab_type": "code",
        "colab": {
          "base_uri": "https://localhost:8080/",
          "height": 351
        },
        "outputId": "f500f565-3859-45bc-ccb1-560afe074864"
      },
      "source": [
        "df1['Age'] = df1['Age'].fillna(df1['Age'].median())\n",
        "df2['Age'] = df1['Age'].fillna(df1['Age'].median())\n",
        "clf = LogisticRegression(random_state=0).fit(df1, y)\n",
        "pred = clf.predict(df2)\n",
        "pred"
      ],
      "execution_count": null,
      "outputs": [
        {
          "output_type": "execute_result",
          "data": {
            "text/plain": [
              "array([0, 0, 0, 0, 0, 0, 0, 0, 1, 0, 0, 0, 1, 0, 1, 1, 0, 0, 1, 1, 0, 0,\n",
              "       1, 0, 1, 0, 1, 0, 0, 0, 0, 0, 1, 0, 0, 0, 1, 1, 0, 0, 0, 1, 0, 1,\n",
              "       1, 0, 0, 0, 1, 1, 1, 0, 0, 1, 0, 0, 0, 0, 0, 1, 0, 0, 0, 1, 0, 1,\n",
              "       1, 1, 1, 1, 1, 0, 1, 1, 1, 1, 0, 1, 0, 1, 0, 0, 0, 0, 0, 0, 1, 1,\n",
              "       1, 0, 1, 0, 1, 0, 0, 0, 1, 0, 1, 0, 1, 0, 0, 0, 0, 0, 0, 0, 0, 0,\n",
              "       0, 1, 1, 1, 1, 0, 0, 1, 1, 1, 1, 0, 1, 0, 0, 1, 0, 1, 0, 0, 0, 1,\n",
              "       0, 0, 0, 0, 0, 0, 1, 0, 0, 1, 0, 0, 1, 0, 1, 0, 0, 0, 1, 0, 0, 0,\n",
              "       0, 0, 1, 1, 1, 1, 0, 0, 1, 0, 0, 1, 0, 0, 1, 1, 0, 0, 0, 0, 0, 1,\n",
              "       1, 0, 1, 1, 0, 0, 1, 0, 1, 0, 1, 0, 0, 0, 0, 1, 0, 0, 0, 0, 1, 0,\n",
              "       0, 1, 1, 0, 0, 1, 0, 1, 1, 0, 1, 0, 0, 0, 0, 1, 0, 0, 1, 0, 1, 0,\n",
              "       1, 0, 1, 0, 1, 1, 0, 1, 0, 0, 0, 1, 0, 0, 0, 0, 0, 0, 1, 1, 1, 1,\n",
              "       0, 0, 0, 0, 1, 0, 1, 0, 1, 0, 0, 0, 0, 0, 0, 0, 1, 0, 0, 0, 1, 0,\n",
              "       0, 0, 1, 0, 0, 0, 1, 0, 1, 0, 0, 0, 0, 0, 0, 0, 0, 0, 1, 1, 1, 0,\n",
              "       0, 0, 0, 0, 0, 1, 0, 0, 0, 0, 1, 0, 0, 0, 0, 0, 0, 0, 1, 1, 0, 0,\n",
              "       0, 1, 0, 0, 0, 1, 1, 1, 0, 0, 0, 0, 0, 0, 0, 1, 1, 0, 0, 0, 0, 0,\n",
              "       1, 0, 0, 1, 0, 1, 0, 0, 0, 0, 0, 0, 0, 1, 0, 1, 0, 1, 0, 1, 1, 0,\n",
              "       0, 0, 1, 1, 1, 0, 0, 1, 0, 1, 1, 0, 1, 0, 0, 1, 1, 0, 0, 1, 1, 0,\n",
              "       1, 1, 1, 0, 1, 0, 0, 0, 1, 0, 0, 1, 0, 0, 0, 0, 0, 1, 0, 0, 0, 1,\n",
              "       0, 1, 0, 0, 1, 0, 1, 0, 1, 0, 0, 1, 1, 1, 1, 1, 1, 0, 1, 0, 0, 0])"
            ]
          },
          "metadata": {
            "tags": []
          },
          "execution_count": 186
        }
      ]
    },
    {
      "cell_type": "code",
      "metadata": {
        "id": "bhFUc15T-_35",
        "colab_type": "code",
        "colab": {}
      },
      "source": [
        " final = pd.DataFrame({'PassengerId': first_col,\n",
        "                       'Survived': pred})\n",
        "final.to_csv('my_submission.csv', index=False)"
      ],
      "execution_count": null,
      "outputs": []
    }
  ]
}